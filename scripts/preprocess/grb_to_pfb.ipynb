{
 "cells": [
  {
   "cell_type": "code",
   "execution_count": 7,
   "metadata": {},
   "outputs": [
    {
     "name": "stderr",
     "output_type": "stream",
     "text": [
      "/home/patras/.local/lib/python3.10/site-packages/pandas/core/computation/expressions.py:21: UserWarning: Pandas requires version '2.8.4' or newer of 'numexpr' (version '2.8.1' currently installed).\n",
      "  from pandas.core.computation.check import NUMEXPR_INSTALLED\n",
      "/home/patras/.local/lib/python3.10/site-packages/pandas/core/arrays/masked.py:60: UserWarning: Pandas requires version '1.3.6' or newer of 'bottleneck' (version '1.3.2' currently installed).\n",
      "  from pandas.core import (\n"
     ]
    }
   ],
   "source": [
    "import os\n",
    "import numpy as np\n",
    "from osgeo import gdal\n",
    "from parflow.tools.fs import get_absolute_path\n",
    "from parflow.tools.io import write_pfb"
   ]
  },
  {
   "cell_type": "code",
   "execution_count": 8,
   "metadata": {},
   "outputs": [],
   "source": [
    "P = 3\n",
    "Q = 3\n",
    "R = 1\n",
    "\n",
    "cellsize = 250.0"
   ]
  },
  {
   "cell_type": "code",
   "execution_count": 9,
   "metadata": {},
   "outputs": [],
   "source": [
    "# input path (.grb)\n",
    "path_raw = '../../data/rawdata/COSMO6_EU_201908/'\n",
    "# intermediate path (.nc)\n",
    "path_prep = '../../data/prepareddata/COSMO6_VM_201908/'\n",
    "# output path (.pfb)\n",
    "path_pfb = '../../data/pfdata/'\n",
    "\n",
    "version = '1' # processing version matching gridtype_valmalencodomain_v<version>.txt file\n",
    "versiondist = 'v1-331' # pfb distribution"
   ]
  },
  {
   "cell_type": "code",
   "execution_count": 10,
   "metadata": {},
   "outputs": [],
   "source": [
    "# equivalent names btw : COSMO_REA6 filename, NLDAS, COSMO_REA6 internal file name (?)\n",
    "\n",
    "variables = [['ASWDIFD_S', 'DSWR', 'ASWDIFD_S'],\n",
    "             ['ATHD_S', 'DLWR', 'ATHD_S'],\n",
    "             ['PS', 'Press', 'sp'],\n",
    "             ['QV_S', 'SPFH', 'QV_S'],\n",
    "             ['T_2M', 'Temp', '2t'],\n",
    "             ['TOT_PRECIP', 'APCP', 'tp'],\n",
    "             ['U_10M', 'UGRD', '10u'],\n",
    "             ['V_10M', 'VGRD', '10v']]\n",
    "\n",
    "month = '08'\n",
    "day1 = 25\n",
    "day2 = 31\n",
    "year = '2019'"
   ]
  },
  {
   "cell_type": "code",
   "execution_count": 11,
   "metadata": {},
   "outputs": [
    {
     "name": "stderr",
     "output_type": "stream",
     "text": [
      "Segmentation fault\n",
      "Segmentation fault\n",
      "Segmentation fault\n",
      "Segmentation fault\n",
      "Segmentation fault\n",
      "Segmentation fault\n",
      "Segmentation fault\n",
      "Segmentation fault\n",
      "Segmentation fault\n",
      "Segmentation fault\n",
      "Segmentation fault\n",
      "Segmentation fault\n",
      "Segmentation fault\n",
      "Segmentation fault\n",
      "Segmentation fault\n",
      "Segmentation fault\n",
      "Segmentation fault\n",
      "Segmentation fault\n",
      "Segmentation fault\n",
      "Segmentation fault\n",
      "Segmentation fault\n",
      "Segmentation fault\n",
      "Segmentation fault\n",
      "Segmentation fault\n",
      "Segmentation fault\n",
      "Segmentation fault\n",
      "Segmentation fault\n",
      "Segmentation fault\n",
      "Segmentation fault\n",
      "Segmentation fault\n",
      "Segmentation fault\n",
      "Segmentation fault\n",
      "Segmentation fault\n",
      "Segmentation fault\n",
      "Segmentation fault\n",
      "Segmentation fault\n",
      "Segmentation fault\n",
      "Segmentation fault\n",
      "Segmentation fault\n",
      "Segmentation fault\n",
      "Segmentation fault\n",
      "Segmentation fault\n",
      "Segmentation fault\n",
      "Segmentation fault\n",
      "Segmentation fault\n",
      "Segmentation fault\n",
      "Segmentation fault\n",
      "Segmentation fault\n",
      "Segmentation fault\n",
      "Segmentation fault\n",
      "Segmentation fault\n",
      "Segmentation fault\n",
      "Segmentation fault\n",
      "Segmentation fault\n",
      "Segmentation fault\n",
      "Segmentation fault\n",
      "Segmentation fault\n",
      "Segmentation fault\n",
      "Segmentation fault\n",
      "Segmentation fault\n",
      "Segmentation fault\n",
      "Segmentation fault\n",
      "Segmentation fault\n",
      "Segmentation fault\n",
      "Segmentation fault\n",
      "Segmentation fault\n",
      "Segmentation fault\n",
      "Segmentation fault\n",
      "Segmentation fault\n",
      "Segmentation fault\n",
      "Segmentation fault\n",
      "Segmentation fault\n",
      "Segmentation fault\n"
     ]
    }
   ],
   "source": [
    "for variable in variables:\n",
    "    filename_org = variable[0] +'.'+year+month\n",
    "    filename = variable[0]+'.v'+version +'.'+year+month # clipped\n",
    "    os.system('cdo -f nc copy ' + path_raw + variable[0] +'.2D.'+year+month+'.grb ' + path_prep + filename_org +'.nc')\n",
    "    os.system('ncrename -v '+variable[2]+','+variable[1] + ' ' + path_prep + filename_org +'.nc')\n",
    "    os.system('cdo -remapbil,../../data/gridtype_valmalencodomain_v'+version+'.txt '+ path_prep + filename_org + '.nc ' + path_prep + filename +'.nc')\n",
    "    if variable[0] == 'TOT_PRECIP':\n",
    "        #unit conversion (mm/s to kg/m^2)\n",
    "        os.system('cdo divc,3600 '+ path_prep + filename +'.nc '+ path_prep + filename +'cv.nc')\n",
    "        os.system('rm '+ path_prep + filename + '.nc')\n",
    "        os.system('mv '+ path_prep + filename +'cv.nc ' + path_prep + filename +'.nc')\n",
    "    \n",
    "    for day in range(day1,day2+1):\n",
    "        daily_filename = path_prep + filename+str(day).zfill(2) +'.nc'\n",
    "        hours_range = str((day-1)*24+1) + '/' + str(day*24) + ' '\n",
    "        os.system('cdo seltimestep,'+ hours_range + path_prep + filename +'.nc '+ daily_filename)\n",
    "        daily_dataset = gdal.Open(\"NETCDF:{0}:{1}\".format(daily_filename, variable[1]))\n",
    "\n",
    "        nt = daily_dataset.RasterCount\n",
    "        nx = daily_dataset.RasterXSize\n",
    "        ny = daily_dataset.RasterYSize\n",
    "        clm_daily = np.empty((nt, ny, nx), dtype=np.float64)\n",
    "        buf_obj = np.empty((ny, nx), dtype=np.float64)\n",
    "        bands_data = []\n",
    "        for hour in range(24, 0, -1): #invert order for pfb\n",
    "            band_data = daily_dataset.GetRasterBand(hour) # band = hour\n",
    "            clm_daily[24-hour] = np.array(band_data.ReadAsArray(buf_obj = buf_obj))\n",
    "        \n",
    "        clm_daily = clm_daily.astype(np.float64)\n",
    "        pfb_name = path_pfb +'clm.'+variable[1]+'.'+versiondist+'.'+year+month+str(day).zfill(2)+'.pfb'\n",
    "        write_pfb( get_absolute_path(pfb_name), clm_daily, p=P, q=Q, r=R, x=0, y=0, z=0, dx=cellsize, dy=cellsize, dz=1.0, dist = False)"
   ]
  },
  {
   "cell_type": "markdown",
   "metadata": {},
   "source": [
    "# END"
   ]
  },
  {
   "cell_type": "code",
   "execution_count": 25,
   "metadata": {},
   "outputs": [
    {
     "name": "stdout",
     "output_type": "stream",
     "text": [
      "1.26.4\n"
     ]
    }
   ],
   "source": [
    "# print(np.__version__) : 1.26.4 - downgraded to make compatible with gdal"
   ]
  }
 ],
 "metadata": {
  "kernelspec": {
   "display_name": "Python 3",
   "language": "python",
   "name": "python3"
  },
  "language_info": {
   "codemirror_mode": {
    "name": "ipython",
    "version": 3
   },
   "file_extension": ".py",
   "mimetype": "text/x-python",
   "name": "python",
   "nbconvert_exporter": "python",
   "pygments_lexer": "ipython3",
   "version": "3.10.12"
  }
 },
 "nbformat": 4,
 "nbformat_minor": 2
}
