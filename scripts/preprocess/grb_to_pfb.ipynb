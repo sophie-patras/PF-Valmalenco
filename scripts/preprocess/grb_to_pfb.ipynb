{
 "cells": [
  {
   "cell_type": "code",
   "execution_count": 1,
   "metadata": {},
   "outputs": [],
   "source": [
    "import os\n",
    "import numpy as np\n",
    "from osgeo import gdal\n",
    "from parflow.tools.fs import get_absolute_path\n",
    "from parflow.tools.io import write_pfb"
   ]
  },
  {
   "cell_type": "code",
   "execution_count": 2,
   "metadata": {},
   "outputs": [],
   "source": [
    "P = 3\n",
    "Q = 3\n",
    "R = 1\n",
    "\n",
    "cellsize = 250.0"
   ]
  },
  {
   "cell_type": "code",
   "execution_count": null,
   "metadata": {},
   "outputs": [],
   "source": [
    "# input path (.grb)\n",
    "path_raw = '../../data/rawdata/COSMO6_EU_201908/'\n",
    "# intermediate path (.nc)\n",
    "path_prep = '../../data/prepareddata/COSMO6_VM_201908/'\n",
    "# output path (.pfb)\n",
    "path_pfb = '../../data/pfdata/'\n",
    "\n",
    "version = '1' # version of gridtype_valmalencodomain_v<version>.txt file\n",
    "versiondist = 'v12-331' # pfb distribution (ex. v11 gridv1 and mm/s, v21 gridv1 and mm/h)"
   ]
  },
  {
   "cell_type": "code",
   "execution_count": 4,
   "metadata": {},
   "outputs": [],
   "source": [
    "# equivalent names btw : COSMO_REA6 filename, NLDAS, COSMO_REA6 internal file name (?)\n",
    "\n",
    "variables = [['ASWDIFD_S', 'DSWR', 'ASWDIFD_S'],\n",
    "             ['ATHD_S', 'DLWR', 'ATHD_S'],\n",
    "             ['PS', 'Press', 'sp'],\n",
    "             ['QV_S', 'SPFH', 'QV_S'],\n",
    "             ['T_2M', 'Temp', '2t'],\n",
    "             ['TOT_PRECIP', 'APCP', 'tp'],\n",
    "             ['U_10M', 'UGRD', '10u'],\n",
    "             ['V_10M', 'VGRD', '10v']]\n",
    "\n",
    "month = '08'\n",
    "day1 = 25\n",
    "day2 = 31\n",
    "year = '2019'"
   ]
  },
  {
   "cell_type": "markdown",
   "metadata": {},
   "source": [
    "Create de .nc files from .grb"
   ]
  },
  {
   "cell_type": "code",
   "execution_count": null,
   "metadata": {},
   "outputs": [
    {
     "name": "stderr",
     "output_type": "stream",
     "text": [
      "Segmentation fault (core dumped)\n",
      "Segmentation fault (core dumped)\n",
      "Segmentation fault (core dumped)\n",
      "Segmentation fault (core dumped)\n",
      "Segmentation fault (core dumped)\n",
      "Segmentation fault (core dumped)\n",
      "Segmentation fault (core dumped)\n",
      "Segmentation fault (core dumped)\n",
      "Segmentation fault (core dumped)\n",
      "Segmentation fault (core dumped)\n",
      "Segmentation fault (core dumped)\n",
      "Segmentation fault (core dumped)\n",
      "Segmentation fault (core dumped)\n",
      "Segmentation fault (core dumped)\n",
      "Segmentation fault (core dumped)\n",
      "Segmentation fault (core dumped)\n",
      "Segmentation fault (core dumped)\n",
      "Segmentation fault (core dumped)\n",
      "Segmentation fault (core dumped)\n",
      "Segmentation fault (core dumped)\n",
      "Segmentation fault (core dumped)\n",
      "Segmentation fault (core dumped)\n",
      "Segmentation fault (core dumped)\n",
      "Segmentation fault (core dumped)\n",
      "Segmentation fault (core dumped)\n",
      "Segmentation fault (core dumped)\n",
      "Segmentation fault (core dumped)\n",
      "Segmentation fault (core dumped)\n",
      "Segmentation fault (core dumped)\n",
      "Segmentation fault (core dumped)\n",
      "Segmentation fault (core dumped)\n",
      "Segmentation fault (core dumped)\n",
      "Segmentation fault (core dumped)\n",
      "Segmentation fault (core dumped)\n",
      "Segmentation fault (core dumped)\n",
      "Segmentation fault (core dumped)\n",
      "Segmentation fault (core dumped)\n",
      "Segmentation fault (core dumped)\n",
      "Segmentation fault (core dumped)\n",
      "Segmentation fault (core dumped)\n",
      "Segmentation fault (core dumped)\n",
      "Segmentation fault (core dumped)\n",
      "Segmentation fault (core dumped)\n",
      "Segmentation fault (core dumped)\n",
      "Segmentation fault (core dumped)\n",
      "Segmentation fault (core dumped)\n",
      "Segmentation fault (core dumped)\n",
      "Segmentation fault (core dumped)\n",
      "Segmentation fault (core dumped)\n",
      "Segmentation fault (core dumped)\n",
      "Segmentation fault (core dumped)\n",
      "Segmentation fault (core dumped)\n",
      "Segmentation fault (core dumped)\n",
      "Segmentation fault (core dumped)\n",
      "Segmentation fault (core dumped)\n",
      "Segmentation fault (core dumped)\n",
      "Segmentation fault (core dumped)\n",
      "Segmentation fault (core dumped)\n",
      "Segmentation fault (core dumped)\n",
      "Segmentation fault (core dumped)\n",
      "Segmentation fault (core dumped)\n",
      "Segmentation fault (core dumped)\n",
      "Segmentation fault (core dumped)\n",
      "Segmentation fault (core dumped)\n",
      "Segmentation fault (core dumped)\n",
      "Segmentation fault (core dumped)\n",
      "Segmentation fault (core dumped)\n",
      "Segmentation fault (core dumped)\n",
      "Segmentation fault (core dumped)\n",
      "Segmentation fault (core dumped)\n",
      "Segmentation fault (core dumped)\n",
      "Segmentation fault (core dumped)\n"
     ]
    }
   ],
   "source": [
    "for variable in variables:\n",
    "    \n",
    "    filename_org = variable[0] +'.'+year+month\n",
    "    filename = variable[0]+'.v'+version +'.'+year+month # clipped\n",
    "    os.system('cdo -f nc copy ' + path_raw + variable[0] +'.2D.'+year+month+'.grb ' + path_prep + filename_org +'.nc')\n",
    "    os.system('ncrename -v '+variable[2]+','+variable[1] + ' ' + path_prep + filename_org +'.nc')\n",
    "    os.system('cdo -remapbil,../../data/gridtype_valmalencodomain_v'+version+'.txt '+ path_prep + filename_org + '.nc ' + path_prep + filename +'.nc')\n",
    "    # uncomment if time BaseUnit!=hour, ex. for unit conversion (kg/m^2/h to mm/s)\n",
    "    #if variable[0] == 'TOT_PRECIP':\n",
    "        # os.system('cdo divc,3600 '+ path_prep + filename +'.nc '+ path_prep + filename +'cv.nc')\n",
    "        #os.system('rm '+ path_prep + filename + '.nc')\n",
    "        #os.system('mv '+ path_prep + filename +'cv.nc ' + path_prep + filename +'.nc')\n",
    "    \n",
    "    for day in range(day1,day2+1):\n",
    "        daily_filename = path_prep + filename+str(day).zfill(2) +'.nc'\n",
    "        hours_range = str((day-1)*24+1) + '/' + str(day*24) + ' '\n",
    "        os.system('cdo seltimestep,'+ hours_range + path_prep + filename +'.nc '+ daily_filename)"
   ]
  },
  {
   "cell_type": "code",
   "execution_count": 25,
   "metadata": {},
   "outputs": [
    {
     "name": "stdout",
     "output_type": "stream",
     "text": [
      "1.26.4\n"
     ]
    }
   ],
   "source": [
    "# print(np.__version__) : 1.26.4 - downgraded to make compatible with gdal"
   ]
  },
  {
   "cell_type": "markdown",
   "metadata": {},
   "source": [
    "Create .pfb from .nc file"
   ]
  },
  {
   "cell_type": "code",
   "execution_count": 9,
   "metadata": {},
   "outputs": [],
   "source": [
    "for variable in variables:\n",
    "    for day in range(day1,day2+1):\n",
    "        filename = variable[0]+'.v'+version +'.'+year+month # clipped\n",
    "        daily_filename = path_prep + filename+str(day).zfill(2) +'.nc'\n",
    "        daily_dataset = gdal.Open(\"NETCDF:{0}:{1}\".format(daily_filename, variable[1]))\n",
    "\n",
    "        nt = daily_dataset.RasterCount\n",
    "        nx = daily_dataset.RasterXSize\n",
    "        ny = daily_dataset.RasterYSize\n",
    "        clm_daily = np.empty((nt, ny, nx), dtype=np.float64)\n",
    "        buf_obj = np.empty((ny, nx), dtype=np.float64)\n",
    "        bands_data = []\n",
    "        for hour in range(24, 0, -1): #invert order for pfb\n",
    "            band_data = daily_dataset.GetRasterBand(hour) # band = hour\n",
    "            clm_daily[24-hour] = np.array(band_data.ReadAsArray(buf_obj = buf_obj))\n",
    "        \n",
    "        clm_daily = clm_daily.astype(np.float64)\n",
    "        clm_daily = np.flip(clm_daily,axis=1)\n",
    "        pfb_name = path_pfb +'clm.'+ versiondist +'.'+variable[1]+'.'+str((day-day1)*24+1).zfill(6)+'_to_'+str((day-day1+1)*24).zfill(6)+'.pfb'\n",
    "        write_pfb( get_absolute_path(pfb_name), clm_daily, p=P, q=Q, r=R, x=0, y=0, z=0, dx=cellsize, dy=cellsize, dz=1.0, dist = True)"
   ]
  }
 ],
 "metadata": {
  "kernelspec": {
   "display_name": "Python 3",
   "language": "python",
   "name": "python3"
  },
  "language_info": {
   "codemirror_mode": {
    "name": "ipython",
    "version": 3
   },
   "file_extension": ".py",
   "mimetype": "text/x-python",
   "name": "python",
   "nbconvert_exporter": "python",
   "pygments_lexer": "ipython3",
   "version": "3.10.12"
  }
 },
 "nbformat": 4,
 "nbformat_minor": 2
}
